{
  "nbformat": 4,
  "nbformat_minor": 0,
  "metadata": {
    "colab": {
      "provenance": [],
      "authorship_tag": "ABX9TyM5K7cCwRH6WTUSo3FOh55L",
      "include_colab_link": true
    },
    "kernelspec": {
      "name": "python3",
      "display_name": "Python 3"
    },
    "language_info": {
      "name": "python"
    }
  },
  "cells": [
    {
      "cell_type": "markdown",
      "metadata": {
        "id": "view-in-github",
        "colab_type": "text"
      },
      "source": [
        "<a href=\"https://colab.research.google.com/github/Rejd10/pdstprog/blob/exercises/string.ipynb\" target=\"_parent\"><img src=\"https://colab.research.google.com/assets/colab-badge.svg\" alt=\"Open In Colab\"/></a>"
      ]
    },
    {
      "cell_type": "markdown",
      "source": [
        "1. Write a Python program to calculate the length of a string."
      ],
      "metadata": {
        "id": "2BAXU2SStoQn"
      }
    },
    {
      "cell_type": "code",
      "execution_count": null,
      "metadata": {
        "colab": {
          "base_uri": "https://localhost:8080/"
        },
        "id": "a_u5gJCboN-9",
        "outputId": "67c93e16-2c4f-4319-eca1-1e466263d191"
      },
      "outputs": [
        {
          "output_type": "stream",
          "name": "stdout",
          "text": [
            "11\n"
          ]
        }
      ],
      "source": [
        "def string_length(string1):\n",
        "  count=0\n",
        "\n",
        "  for char in string1:\n",
        "    count+=1\n",
        "  return count\n",
        "\n",
        "print(string_length(\"Hello World\"))"
      ]
    },
    {
      "cell_type": "markdown",
      "source": [
        "2. Write a Python program to count the number of characters (character frequency) in a string."
      ],
      "metadata": {
        "id": "sPjHl7His_ej"
      }
    },
    {
      "cell_type": "code",
      "source": [
        "def char_frequency(str1):\n",
        "  dict = {}\n",
        "  for i in str1:\n",
        "    keys=dict.keys()\n",
        "    if i in keys:\n",
        "      dict[i]+=1\n",
        "    else:\n",
        "        dict[i]=1\n",
        "  return dict\n",
        "\n",
        "print(char_frequency(\"google.com\"))"
      ],
      "metadata": {
        "colab": {
          "base_uri": "https://localhost:8080/"
        },
        "id": "F5ckYGQqpXw6",
        "outputId": "07156879-ed83-4e34-9c22-94dea23add63"
      },
      "execution_count": null,
      "outputs": [
        {
          "output_type": "stream",
          "name": "stdout",
          "text": [
            "{'g': 2, 'o': 3, 'l': 1, 'e': 1, '.': 1, 'c': 1, 'm': 1}\n"
          ]
        }
      ]
    },
    {
      "cell_type": "markdown",
      "source": [
        "3. Write a Python program to get a string made of the first 2 and last 2 characters of a given string. If the string length is less than 2, return the empty string instead."
      ],
      "metadata": {
        "id": "g0qsf_u0t4ZI"
      }
    },
    {
      "cell_type": "code",
      "source": [
        "def string_ends(str1):\n",
        "  if len(str1) <2:\n",
        "    return \" \"\n",
        "\n",
        "  return str1[0:2] + str1[-2:]\n",
        "\n",
        "print(string_ends(\"w3resource\"))\n",
        "print(string_ends(\"w3\"))\n",
        "print(string_ends(\"w3w3\"))"
      ],
      "metadata": {
        "colab": {
          "base_uri": "https://localhost:8080/"
        },
        "id": "bjpCt8DEsMj4",
        "outputId": "3a1a1090-02d7-42d6-c1f2-b0f6407122a8"
      },
      "execution_count": null,
      "outputs": [
        {
          "output_type": "stream",
          "name": "stdout",
          "text": [
            "w3ce\n",
            "w3w3\n",
            "w3w3\n"
          ]
        }
      ]
    },
    {
      "cell_type": "markdown",
      "source": [
        "4. Write a Python program to get a string from a given string where all occurrences of its first char have been changed to '$', except the first char itself."
      ],
      "metadata": {
        "id": "UJlzEkY1v0jN"
      }
    },
    {
      "cell_type": "code",
      "source": [
        "def string_change(str1):\n",
        "  first_char = str1[0]\n",
        "  str1 = str1.replace(first_char, \"$\")\n",
        "  str1 = first_char + str1[1:]\n",
        "  return str1\n",
        "\n",
        "print(string_change(\"restart\"))"
      ],
      "metadata": {
        "colab": {
          "base_uri": "https://localhost:8080/"
        },
        "id": "xTC2NZy2wCti",
        "outputId": "c9f107b7-fd81-4e80-c24e-88d2ce97e3f0"
      },
      "execution_count": null,
      "outputs": [
        {
          "output_type": "stream",
          "name": "stdout",
          "text": [
            "resta$t\n"
          ]
        }
      ]
    },
    {
      "cell_type": "markdown",
      "source": [
        "5. Write a Python program to get a single string from two given strings, separated by a space and swap the first two characters of each string."
      ],
      "metadata": {
        "id": "_h3-OXOZyZ_0"
      }
    },
    {
      "cell_type": "code",
      "source": [
        "def chars_swap(str1, str2):\n",
        "  new_str1 = str2[:2] + str1[2:]\n",
        "  new_str2 = str1[:2] + str2[2:]\n",
        "\n",
        "  return new_str1 + \" \" + new_str2\n",
        "\n",
        "print(chars_swap(\"abc\", \"xyz\"))\n"
      ],
      "metadata": {
        "colab": {
          "base_uri": "https://localhost:8080/"
        },
        "id": "bYOvA1YVyumR",
        "outputId": "241e02a0-07a6-4a41-d261-da9ebc32bbd5"
      },
      "execution_count": null,
      "outputs": [
        {
          "output_type": "stream",
          "name": "stdout",
          "text": [
            "xyc abz\n"
          ]
        }
      ]
    },
    {
      "cell_type": "markdown",
      "source": [
        "6. Write a Python program to add 'ing' at the end of a given string (length should be at least 3). If the given string already ends with 'ing', add 'ly' instead. If the string length of the given string is less than 3, leave it unchanged."
      ],
      "metadata": {
        "id": "B0WEucyt0ROF"
      }
    },
    {
      "cell_type": "code",
      "source": [
        "def string_add_ing(str1):\n",
        "  length=len(str1)\n",
        "  if length >= 3:\n",
        "    if str1[-3:] == \"ing\":\n",
        "      str1 += \"ly\"\n",
        "    else:\n",
        "      str1 += \"ing\"\n",
        "\n",
        "  return str1\n",
        "\n",
        "print(string_add_ing(\"abc\"))\n",
        "print(string_add_ing(\"string\"))"
      ],
      "metadata": {
        "colab": {
          "base_uri": "https://localhost:8080/"
        },
        "id": "OsrzPOQ60yr5",
        "outputId": "edfecba2-fcdd-49a2-afdc-22bf7e084766"
      },
      "execution_count": null,
      "outputs": [
        {
          "output_type": "stream",
          "name": "stdout",
          "text": [
            "abcing\n",
            "stringly\n"
          ]
        }
      ]
    },
    {
      "cell_type": "markdown",
      "source": [
        "7. Write a Python program to remove the nth index character from a nonempty string."
      ],
      "metadata": {
        "id": "jW8FRbxg3O8X"
      }
    },
    {
      "cell_type": "code",
      "source": [
        "def remove_char(str1, n):\n",
        "  first_part = str1[:n]\n",
        "  second_part = str1[n+1:]\n",
        "  return first_part + second_part\n",
        "\n",
        "print(remove_char(\"Python\", 2))\n"
      ],
      "metadata": {
        "colab": {
          "base_uri": "https://localhost:8080/"
        },
        "id": "5f-Rx52o6jGz",
        "outputId": "0d28fe60-1963-45e6-c6f4-01beae9b161d"
      },
      "execution_count": null,
      "outputs": [
        {
          "output_type": "stream",
          "name": "stdout",
          "text": [
            "Pyhon\n"
          ]
        }
      ]
    },
    {
      "cell_type": "markdown",
      "source": [
        "8.Write a Python program to reverse a string."
      ],
      "metadata": {
        "id": "VSOZieZ3VWnc"
      }
    },
    {
      "cell_type": "code",
      "source": [
        "def rev_string(str1):\n",
        "  return ''.join(reversed(str1))\n",
        "\n",
        "print()\n",
        "print(rev_string(\"abcdefg\"))"
      ],
      "metadata": {
        "colab": {
          "base_uri": "https://localhost:8080/"
        },
        "id": "lIhWfeoWVbv2",
        "outputId": "47c3780d-3de3-4777-8622-d4f37fbbf641"
      },
      "execution_count": null,
      "outputs": [
        {
          "output_type": "stream",
          "name": "stdout",
          "text": [
            "\n",
            "gfedcba\n"
          ]
        }
      ]
    },
    {
      "cell_type": "markdown",
      "source": [
        "9.Write a Python script that takes input from the user and displays that input back in upper and lower cases."
      ],
      "metadata": {
        "id": "TgI_Nm_VWvOJ"
      }
    },
    {
      "cell_type": "code",
      "source": [
        "color_input = input(\"What's your favourite color? \")\n",
        "print(color_input.upper())\n",
        "print(color_input.lower())"
      ],
      "metadata": {
        "colab": {
          "base_uri": "https://localhost:8080/"
        },
        "id": "UC30T9LrXiVo",
        "outputId": "7d074751-c797-4d2b-aed9-5e94e02e2770"
      },
      "execution_count": null,
      "outputs": [
        {
          "output_type": "stream",
          "name": "stdout",
          "text": [
            "What's your favourite color? blue\n",
            "BLUE\n",
            "blue\n"
          ]
        }
      ]
    },
    {
      "cell_type": "markdown",
      "source": [
        "10.Write a Python function to reverse a string if its length is a multiple of 4.\n",
        "\n"
      ],
      "metadata": {
        "id": "umX22OpmYeHC"
      }
    },
    {
      "cell_type": "code",
      "source": [
        "def rev_string(str1):\n",
        "  if len(str1) % 4 == 0:\n",
        "    return ''.join(reversed(str1))\n",
        "  else:\n",
        "      return str1\n",
        "\n",
        "print(rev_string(\"four\"))\n",
        "print(rev_string(\"three\"))"
      ],
      "metadata": {
        "colab": {
          "base_uri": "https://localhost:8080/"
        },
        "id": "ZczSHScbYzDy",
        "outputId": "e1291ba6-c457-446c-fe34-7650791990ed"
      },
      "execution_count": null,
      "outputs": [
        {
          "output_type": "stream",
          "name": "stdout",
          "text": [
            "ruof\n",
            "three\n"
          ]
        }
      ]
    },
    {
      "cell_type": "markdown",
      "source": [
        "11.Write a Python function to convert a given string to all uppercase if it contains at least 2 uppercase characters in the first 4 characters."
      ],
      "metadata": {
        "id": "K42PYtmiZ6Oa"
      }
    },
    {
      "cell_type": "code",
      "source": [
        "def upper_convert(str1):\n",
        "  num_upper = 0\n",
        "\n",
        "  for letter in str1[:4]:\n",
        "    if letter.upper() == letter:\n",
        "      num_upper += 1\n",
        "\n",
        "  if num_upper >= 2:\n",
        "    return str1.upper()\n",
        "\n",
        "  return str1\n",
        "\n",
        "print(upper_convert(\"Python\"))\n",
        "print(upper_convert(\"PYthon\"))"
      ],
      "metadata": {
        "colab": {
          "base_uri": "https://localhost:8080/"
        },
        "id": "6-dPVbAAaPFl",
        "outputId": "ddc8ed5d-bb9f-4b3e-eea8-9b343d8288e2"
      },
      "execution_count": null,
      "outputs": [
        {
          "output_type": "stream",
          "name": "stdout",
          "text": [
            "Python\n",
            "PYTHON\n"
          ]
        }
      ]
    },
    {
      "cell_type": "markdown",
      "source": [
        "12.Write a Python program to sort a string lexicographically."
      ],
      "metadata": {
        "id": "tX8bUNJbbHux"
      }
    },
    {
      "cell_type": "code",
      "source": [
        "def lexicographic_sort(str1):\n",
        "  return sorted(sorted(str1), key=str.upper)\n",
        "\n",
        "print(lexicographic_sort(\"w3resource\"))"
      ],
      "metadata": {
        "colab": {
          "base_uri": "https://localhost:8080/"
        },
        "id": "1EAsSUlQbefs",
        "outputId": "61641334-0fb1-4a10-c2f9-226baa15f418"
      },
      "execution_count": null,
      "outputs": [
        {
          "output_type": "stream",
          "name": "stdout",
          "text": [
            "['3', 'c', 'e', 'e', 'o', 'r', 'r', 's', 'u', 'w']\n"
          ]
        }
      ]
    },
    {
      "cell_type": "markdown",
      "source": [
        "13. Write a Python program to check whether a string starts with specified characters."
      ],
      "metadata": {
        "id": "KP0k7erlb5pT"
      }
    },
    {
      "cell_type": "code",
      "source": [
        "string = \"w3resource.com\"\n",
        "print(string.startswith(\"w3r\"))"
      ],
      "metadata": {
        "colab": {
          "base_uri": "https://localhost:8080/"
        },
        "id": "5W79NkOgc7zG",
        "outputId": "e4e8bb57-9833-40ca-9685-ab7c7bf09528"
      },
      "execution_count": null,
      "outputs": [
        {
          "output_type": "stream",
          "name": "stdout",
          "text": [
            "True\n"
          ]
        }
      ]
    },
    {
      "cell_type": "markdown",
      "source": [
        "14.Write a Python program to display formatted text (width=50) as output."
      ],
      "metadata": {
        "id": "fTVrClPJdFc1"
      }
    },
    {
      "cell_type": "code",
      "source": [
        "import textwrap\n",
        "sample_text = '''\n",
        "    Python is a widely used high-level, general-purpose, interpreted,\n",
        "  dynamic programming language. Its design philosophy emphasizes\n",
        "  code readability, and its syntax allows programmers to express\n",
        "  concepts in fewer lines of code than possible in languages such\n",
        "  as C++ or Java.\n",
        "  '''\n",
        "print(textwrap.fill(sample_text, width=50))"
      ],
      "metadata": {
        "colab": {
          "base_uri": "https://localhost:8080/"
        },
        "id": "AkgsMDjudWL_",
        "outputId": "b4862410-c5b9-480f-b51e-7bc66544ea3c"
      },
      "execution_count": null,
      "outputs": [
        {
          "output_type": "stream",
          "name": "stdout",
          "text": [
            "     Python is a widely used high-level, general-\n",
            "purpose, interpreted,   dynamic programming\n",
            "language. Its design philosophy emphasizes   code\n",
            "readability, and its syntax allows programmers to\n",
            "express   concepts in fewer lines of code than\n",
            "possible in languages such   as C++ or Java.\n"
          ]
        }
      ]
    },
    {
      "cell_type": "markdown",
      "source": [
        "15.Write a  Python function to get a string made of the first three characters of a specified string. If the length of the string is less than 3, return the original string."
      ],
      "metadata": {
        "id": "3GKwkFf-e4Wn"
      }
    },
    {
      "cell_type": "code",
      "source": [
        "def three_letters(str1):\n",
        "  if len(str1) > 3:\n",
        "    return str1[:3]\n",
        "  else:\n",
        "    return str1\n",
        "\n",
        "print(three_letters(\"abc\"))\n",
        "print(three_letters(\"Python\"))"
      ],
      "metadata": {
        "colab": {
          "base_uri": "https://localhost:8080/"
        },
        "id": "d19-IWGegDFt",
        "outputId": "5b218c22-313d-474e-e243-ec22b881a678"
      },
      "execution_count": null,
      "outputs": [
        {
          "output_type": "stream",
          "name": "stdout",
          "text": [
            "abc\n",
            "Pyt\n"
          ]
        }
      ]
    },
    {
      "cell_type": "markdown",
      "source": [
        "16.Write a Python program to print the following positive and negative numbers with no decimal places."
      ],
      "metadata": {
        "id": "eQCJi6PCggbC"
      }
    },
    {
      "cell_type": "code",
      "source": [
        "x = 1.23456789\n",
        "y = 5.9999\n",
        "print(\"Number with no decimal places: \"+\"{:.0f}\".format(x))\n",
        "print(\"Number with no decimal places: \"+\"{:.0f}\".format(y))"
      ],
      "metadata": {
        "colab": {
          "base_uri": "https://localhost:8080/"
        },
        "id": "pkYuASUehEx4",
        "outputId": "ec1b53b4-1883-44bc-ab6b-6d3c560b74d2"
      },
      "execution_count": null,
      "outputs": [
        {
          "output_type": "stream",
          "name": "stdout",
          "text": [
            "Number with no decimal places: 1\n",
            "Number with no decimal places: 6\n"
          ]
        }
      ]
    },
    {
      "cell_type": "markdown",
      "source": [
        "17. Write a Python program to print the following numbers up to 2 decimal places."
      ],
      "metadata": {
        "id": "2shEiCt7iWIU"
      }
    },
    {
      "cell_type": "code",
      "source": [
        "x = 1.23456789\n",
        "print(\"Number with 2 decimal places\"+\"{:.2f}\".format(x))"
      ],
      "metadata": {
        "colab": {
          "base_uri": "https://localhost:8080/"
        },
        "id": "mxni7LQti6AK",
        "outputId": "81b7d052-df31-4091-bac3-2f17382a673a"
      },
      "execution_count": null,
      "outputs": [
        {
          "output_type": "stream",
          "name": "stdout",
          "text": [
            "Number with 2 decimal places1.23\n"
          ]
        }
      ]
    },
    {
      "cell_type": "markdown",
      "source": [
        "18.Write a Python program to print the following numbers up to 2 decimal places with a sign."
      ],
      "metadata": {
        "id": "f364BblGhqiI"
      }
    },
    {
      "cell_type": "code",
      "source": [
        "x = 1.23456789\n",
        "print(\"Number with 2 decimal places \"+\"{:+.2f}\".format(x))"
      ],
      "metadata": {
        "colab": {
          "base_uri": "https://localhost:8080/"
        },
        "id": "-mAQqS9Kh1XQ",
        "outputId": "7fdcc2a7-0311-44aa-83c3-575d733e275d"
      },
      "execution_count": null,
      "outputs": [
        {
          "output_type": "stream",
          "name": "stdout",
          "text": [
            "Number with 2 decimal places +1.23\n"
          ]
        }
      ]
    },
    {
      "cell_type": "markdown",
      "source": [
        "19.Write a Python program to format a number with a percentage."
      ],
      "metadata": {
        "id": "S4RNt2GkjYib"
      }
    },
    {
      "cell_type": "code",
      "source": [
        "x = 1.23456789\n",
        "print(\"Formatted Number with percentage: \"+\"{:.2%}\".format(x))"
      ],
      "metadata": {
        "colab": {
          "base_uri": "https://localhost:8080/"
        },
        "id": "hgJHkMlpjl3p",
        "outputId": "7e05950a-c528-4803-e5fc-60244e8b61fd"
      },
      "execution_count": null,
      "outputs": [
        {
          "output_type": "stream",
          "name": "stdout",
          "text": [
            "Formatted Number with percentage: 123.46%\n"
          ]
        }
      ]
    },
    {
      "cell_type": "markdown",
      "source": [
        "20.Write a Python program to display a number with a comma separator."
      ],
      "metadata": {
        "id": "WFlrP5JxkBUG"
      }
    },
    {
      "cell_type": "code",
      "source": [
        "x = 1000000000000000000\n",
        "print(\"Number with a comma separator \"+\"{:,}\".format(x))"
      ],
      "metadata": {
        "colab": {
          "base_uri": "https://localhost:8080/"
        },
        "id": "ipzSWFZrkL_L",
        "outputId": "d229a3b0-3c01-4eb7-a346-efa925e9fdc7"
      },
      "execution_count": null,
      "outputs": [
        {
          "output_type": "stream",
          "name": "stdout",
          "text": [
            "Number with a comma separator 1,000,000,000,000,000,000\n"
          ]
        }
      ]
    }
  ]
}