{
  "nbformat": 4,
  "nbformat_minor": 0,
  "metadata": {
    "colab": {
      "provenance": [],
      "authorship_tag": "ABX9TyMMWDyDiPGqj0g+P/dKs/W9",
      "include_colab_link": true
    },
    "kernelspec": {
      "name": "python3",
      "display_name": "Python 3"
    },
    "language_info": {
      "name": "python"
    }
  },
  "cells": [
    {
      "cell_type": "markdown",
      "metadata": {
        "id": "view-in-github",
        "colab_type": "text"
      },
      "source": [
        "<a href=\"https://colab.research.google.com/github/Rejd10/pdstprog/blob/exercises/dictionary.ipynb\" target=\"_parent\"><img src=\"https://colab.research.google.com/assets/colab-badge.svg\" alt=\"Open In Colab\"/></a>"
      ]
    },
    {
      "cell_type": "markdown",
      "source": [
        "1. Write a Python script to sort (ascending and descending) a dictionary by value."
      ],
      "metadata": {
        "id": "28uUCXNsahDj"
      }
    },
    {
      "cell_type": "code",
      "execution_count": null,
      "metadata": {
        "colab": {
          "base_uri": "https://localhost:8080/"
        },
        "id": "-zaZBwZvaYr6",
        "outputId": "5418a40a-0489-4d35-ab85-64076c203e57"
      },
      "outputs": [
        {
          "output_type": "stream",
          "name": "stdout",
          "text": [
            "Original dictionary:  {1: 2, 3: 5, 0: 1, 2: 3, 4: 4}\n",
            "Dictionary in ascending order by value: [(0, 1), (1, 2), (2, 3), (4, 4), (3, 5)]\n",
            "Dictionary in descending order by value:  {3: 5, 4: 4, 2: 3, 1: 2, 0: 1}\n"
          ]
        }
      ],
      "source": [
        "import operator\n",
        "d = {1: 2, 3: 5, 0: 1, 2: 3, 4: 4}\n",
        "\n",
        "print(\"Original dictionary: \",d)\n",
        "\n",
        "sorted_dict = sorted(d.items(), key=operator.itemgetter(1))\n",
        "print(\"Dictionary in ascending order by value:\", sorted_dict)\n",
        "\n",
        "sorted_dict = dict(sorted(d.items(), key=operator.itemgetter(1), reverse=True))\n",
        "print(\"Dictionary in descending order by value: \", sorted_dict)"
      ]
    },
    {
      "cell_type": "markdown",
      "source": [
        "2. Write a Python script to add a key to a dictionary."
      ],
      "metadata": {
        "id": "AiyTXZP6dF9Q"
      }
    },
    {
      "cell_type": "code",
      "source": [
        "d = {0: 10, 1: 20}\n",
        "print(d)\n",
        "d.update({2: 30})\n",
        "print(d)"
      ],
      "metadata": {
        "colab": {
          "base_uri": "https://localhost:8080/"
        },
        "id": "4--Ttb7BdMNq",
        "outputId": "cb9482dd-ec23-45d2-d5af-18415666bd62"
      },
      "execution_count": null,
      "outputs": [
        {
          "output_type": "stream",
          "name": "stdout",
          "text": [
            "{0: 10, 1: 20}\n",
            "{0: 10, 1: 20, 2: 30}\n"
          ]
        }
      ]
    },
    {
      "cell_type": "markdown",
      "source": [
        "3. Write a Python script to concatenate the following dictionaries to create a new one."
      ],
      "metadata": {
        "id": "hWov3oKvdfk_"
      }
    },
    {
      "cell_type": "code",
      "source": [
        "dict1 = {1: 10, 2: 20}\n",
        "dict2 = {3: 30, 4: 40}\n",
        "dict3 = {5: 50, 6: 60}\n",
        "dict4 = {}\n",
        "\n",
        "for d in (dict1, dict2, dict3):\n",
        "  dict4.update(d)\n",
        "print(dict4)"
      ],
      "metadata": {
        "colab": {
          "base_uri": "https://localhost:8080/"
        },
        "id": "9B5EFk6bdq_s",
        "outputId": "55e833b8-8087-4bf3-857f-ab9f14962a5c"
      },
      "execution_count": null,
      "outputs": [
        {
          "output_type": "stream",
          "name": "stdout",
          "text": [
            "{1: 10, 2: 20, 3: 30, 4: 40, 5: 50, 6: 60}\n"
          ]
        }
      ]
    },
    {
      "cell_type": "markdown",
      "source": [
        "4. Write a Python script to check whether a given key already exists in a dictionary."
      ],
      "metadata": {
        "id": "PwzYlxW4eYT1"
      }
    },
    {
      "cell_type": "code",
      "source": [
        "dict1 = {1: 10, 2: 20, 3: 30, 4: 40, 5: 50}\n",
        "def key_exist(x):\n",
        "  if x in dict1:\n",
        "    print(\"Key exist in dictionary\")\n",
        "  else:\n",
        "    print(\"Key does not exist in dictionary\")\n",
        "\n",
        "key_exist(1)\n",
        "key_exist(8)\n"
      ],
      "metadata": {
        "colab": {
          "base_uri": "https://localhost:8080/"
        },
        "id": "NfriNsFNejDS",
        "outputId": "8e5436d7-3c2b-4ae0-8765-6aa81a7a0290"
      },
      "execution_count": null,
      "outputs": [
        {
          "output_type": "stream",
          "name": "stdout",
          "text": [
            "Key exist in dictionary\n",
            "Key does not exist in dictionary\n"
          ]
        }
      ]
    },
    {
      "cell_type": "markdown",
      "source": [
        "5. Write a Python program to iterate over dictionaries using for loops."
      ],
      "metadata": {
        "id": "CsNalomAghy8"
      }
    },
    {
      "cell_type": "code",
      "source": [
        "dict1 = {'x': 10, 'y': 20, 'z': 30}\n",
        "for dict_key, dict_value in dict1.items():\n",
        "  print(dict_key, \":\", dict_value)"
      ],
      "metadata": {
        "colab": {
          "base_uri": "https://localhost:8080/"
        },
        "id": "5MtFfmJVgwfk",
        "outputId": "0be7893a-4aa3-4dcc-e61a-797a17d87871"
      },
      "execution_count": null,
      "outputs": [
        {
          "output_type": "stream",
          "name": "stdout",
          "text": [
            "x : 10\n",
            "y : 20\n",
            "z : 30\n"
          ]
        }
      ]
    },
    {
      "cell_type": "markdown",
      "source": [
        "6. Write a Python script to generate and print a dictionary that contains a number (between 1 and n) in the form (x, x*x)."
      ],
      "metadata": {
        "id": "KXZCSnUvhW81"
      }
    },
    {
      "cell_type": "code",
      "source": [
        "num = int(input(\"Give a number \"))\n",
        "dict1 = dict()\n",
        "for x in range(1, num + 1):\n",
        "  dict1[x] = x * x\n",
        "\n",
        "print(dict1)"
      ],
      "metadata": {
        "colab": {
          "base_uri": "https://localhost:8080/"
        },
        "id": "NK1VTJnYhii-",
        "outputId": "abae6542-c777-4929-bc04-2c31be711ec4"
      },
      "execution_count": null,
      "outputs": [
        {
          "output_type": "stream",
          "name": "stdout",
          "text": [
            "Give a number 3\n",
            "{1: 1, 2: 4, 3: 9}\n"
          ]
        }
      ]
    },
    {
      "cell_type": "markdown",
      "source": [
        "7. Write a Python script to print a dictionary where the keys are numbers between 1 and 15 (both included) and the values are the square of the keys."
      ],
      "metadata": {
        "id": "C5AB4X7RiFUR"
      }
    },
    {
      "cell_type": "code",
      "source": [
        "dict1 = dict()\n",
        "for x in range(1, 16):\n",
        "  dict1[x] = x ** 2\n",
        "\n",
        "print(dict1)"
      ],
      "metadata": {
        "colab": {
          "base_uri": "https://localhost:8080/"
        },
        "id": "OavvSjopiM9S",
        "outputId": "14aba59b-d1ab-40cb-cd8d-e5013ac97445"
      },
      "execution_count": null,
      "outputs": [
        {
          "output_type": "stream",
          "name": "stdout",
          "text": [
            "{1: 1, 2: 4, 3: 9, 4: 16, 5: 25, 6: 36, 7: 49, 8: 64, 9: 81, 10: 100, 11: 121, 12: 144, 13: 169, 14: 196, 15: 225}\n"
          ]
        }
      ]
    },
    {
      "cell_type": "markdown",
      "source": [
        "8. Write a Python script to merge two Python dictionaries."
      ],
      "metadata": {
        "id": "mcQGPr9LkwqH"
      }
    },
    {
      "cell_type": "code",
      "source": [
        "dict1 = {1: 10, 2: 20}\n",
        "dict2 = {3: 30, 4: 40}\n",
        "dict3 = dict1.copy()\n",
        "dict3.update(dict2)\n",
        "print(dict3)"
      ],
      "metadata": {
        "colab": {
          "base_uri": "https://localhost:8080/"
        },
        "id": "hHvYLE9jkRlj",
        "outputId": "f9ed7af1-735e-4ea6-8a86-cbc7ea106624"
      },
      "execution_count": null,
      "outputs": [
        {
          "output_type": "stream",
          "name": "stdout",
          "text": [
            "{1: 10, 2: 20, 3: 30, 4: 40}\n"
          ]
        }
      ]
    },
    {
      "cell_type": "markdown",
      "source": [
        "9. Write a Python program to iterate over dictionaries using for loops."
      ],
      "metadata": {
        "id": "P2yAfXmTlJw2"
      }
    },
    {
      "cell_type": "code",
      "source": [
        "colors = {\"red\": \"R\", \"green\": \"G\", \"blue\" : \"B\"}\n",
        "for color_key, value in colors.items():\n",
        "  print(color_key, \"corresponds to \", colors[color_key])\n"
      ],
      "metadata": {
        "colab": {
          "base_uri": "https://localhost:8080/"
        },
        "id": "hx0AIyFzlm9L",
        "outputId": "85312bcb-b57c-4b23-f9ea-30f4a91beb22"
      },
      "execution_count": null,
      "outputs": [
        {
          "output_type": "stream",
          "name": "stdout",
          "text": [
            "red corresponds to  R\n",
            "green corresponds to  G\n",
            "blue corresponds to  B\n"
          ]
        }
      ]
    },
    {
      "cell_type": "markdown",
      "source": [
        "10. Write a Python program to sum all the items in a dictionary."
      ],
      "metadata": {
        "id": "dsKiiWKYmT51"
      }
    },
    {
      "cell_type": "code",
      "source": [
        "dict1 = {1: 10, 2: 20, 3: 30, 4: 40, 5: 50}\n",
        "dict_sum = sum(dict1.values())\n",
        "print(dict_sum)"
      ],
      "metadata": {
        "colab": {
          "base_uri": "https://localhost:8080/"
        },
        "id": "DW5HCOrRmd11",
        "outputId": "26b06d38-4d69-4992-ba22-a0b83878c812"
      },
      "execution_count": null,
      "outputs": [
        {
          "output_type": "stream",
          "name": "stdout",
          "text": [
            "150\n"
          ]
        }
      ]
    },
    {
      "cell_type": "markdown",
      "source": [
        "11. Write a Python program to multiply all the items in a dictionary."
      ],
      "metadata": {
        "id": "iFyagbvLmyPn"
      }
    },
    {
      "cell_type": "code",
      "source": [
        "dict1 = {1: 10, 2: 20, 3: 30, 4: 40, 5: 50}\n",
        "result = 1\n",
        "for key in dict1:\n",
        "  result = result * dict1[key]\n",
        "print(result)"
      ],
      "metadata": {
        "colab": {
          "base_uri": "https://localhost:8080/"
        },
        "id": "NHvmWNBem-Iz",
        "outputId": "f4238e6a-be04-424e-baa9-4343cf03af16"
      },
      "execution_count": null,
      "outputs": [
        {
          "output_type": "stream",
          "name": "stdout",
          "text": [
            "12000000\n"
          ]
        }
      ]
    },
    {
      "cell_type": "markdown",
      "source": [
        "12. Write a Python program to remove a key from a dictionary."
      ],
      "metadata": {
        "id": "gAYeekdYnoW3"
      }
    },
    {
      "cell_type": "code",
      "source": [
        "dict1 = {1: 20, 2: 40, 3: 60}\n",
        "print(dict1)\n",
        "if 2 in dict1:\n",
        "  del dict1[2]\n",
        "print(dict1)"
      ],
      "metadata": {
        "colab": {
          "base_uri": "https://localhost:8080/"
        },
        "id": "hMQPBlNln5kJ",
        "outputId": "32abcac3-0d85-418c-80fb-69d9faab3ff9"
      },
      "execution_count": null,
      "outputs": [
        {
          "output_type": "stream",
          "name": "stdout",
          "text": [
            "{1: 20, 2: 40, 3: 60}\n",
            "{1: 20, 3: 60}\n"
          ]
        }
      ]
    },
    {
      "cell_type": "markdown",
      "source": [
        "13. Write a Python program to map two lists into a dictionary."
      ],
      "metadata": {
        "id": "XJwRC1W3pBgp"
      }
    },
    {
      "cell_type": "code",
      "source": [
        "keys = [1, 2, 3, 4, 5]\n",
        "values = ['one', 'two', 'three', 'four', 'five']\n",
        "num_dict = dict(zip(keys, values))\n",
        "print(num_dict)"
      ],
      "metadata": {
        "colab": {
          "base_uri": "https://localhost:8080/"
        },
        "id": "VEx2P8ECpGi9",
        "outputId": "6f4c63cb-3ca0-431e-ed62-a46b7aad190a"
      },
      "execution_count": null,
      "outputs": [
        {
          "output_type": "stream",
          "name": "stdout",
          "text": [
            "{1: 'one', 2: 'two', 3: 'three', 4: 'four', 5: 'five'}\n"
          ]
        }
      ]
    },
    {
      "cell_type": "markdown",
      "source": [
        "14. Write a Python program to check if a dictionary is empty or not."
      ],
      "metadata": {
        "id": "3aKGfZeypiPk"
      }
    },
    {
      "cell_type": "code",
      "source": [
        "dict1 = {}\n",
        "if not bool(dict1):\n",
        "  print(\"Dictionary is empty\")\n",
        "else:\n",
        "  print(\"Dictionary is not empty\")"
      ],
      "metadata": {
        "colab": {
          "base_uri": "https://localhost:8080/"
        },
        "id": "ZoK-oUv6qHh1",
        "outputId": "278fe8ec-29de-4158-9659-6ac99d268d19"
      },
      "execution_count": null,
      "outputs": [
        {
          "output_type": "stream",
          "name": "stdout",
          "text": [
            "Dictionary is empty\n"
          ]
        }
      ]
    },
    {
      "cell_type": "markdown",
      "source": [
        "15. Write a Python program to combine two dictionary by adding values for common keys."
      ],
      "metadata": {
        "id": "urzLhCK8qjKy"
      }
    },
    {
      "cell_type": "code",
      "source": [
        "from collections import Counter\n",
        "d1 = {'a': 100, 'b': 200, 'c':300}\n",
        "d2 = {'a': 300, 'b': 200, 'd':400}\n",
        "dict_c =  Counter(d1) + Counter(d2)\n",
        "print(dict_c)"
      ],
      "metadata": {
        "colab": {
          "base_uri": "https://localhost:8080/"
        },
        "id": "eoapL7Bbq42U",
        "outputId": "74226de2-b2ce-45f8-84b5-4eede7ee5806"
      },
      "execution_count": null,
      "outputs": [
        {
          "output_type": "stream",
          "name": "stdout",
          "text": [
            "Counter({'a': 400, 'b': 400, 'd': 400, 'c': 300})\n"
          ]
        }
      ]
    },
    {
      "cell_type": "markdown",
      "source": [
        "16. Write a  Python program to count the number of items in a dictionary value that is a list."
      ],
      "metadata": {
        "id": "F-5kLWXH2hrq"
      }
    },
    {
      "cell_type": "code",
      "source": [
        "dict = {'Colors': ['red', 'green', 'blue'], 'Numbers': ['one', 'two', 'three']}\n",
        "num = sum(map(len, dict.values()))\n",
        "print(num)"
      ],
      "metadata": {
        "colab": {
          "base_uri": "https://localhost:8080/"
        },
        "id": "U4d3De152hV8",
        "outputId": "dd44a656-566e-48bd-81f0-eb1ecfb089c6"
      },
      "execution_count": null,
      "outputs": [
        {
          "output_type": "stream",
          "name": "stdout",
          "text": [
            "6\n"
          ]
        }
      ]
    },
    {
      "cell_type": "markdown",
      "source": [
        "17. Write a  Python program to create a dictionary from a string."
      ],
      "metadata": {
        "id": "BDcz7HXZ6gXN"
      }
    },
    {
      "cell_type": "code",
      "source": [
        "from collections import defaultdict, Counter\n",
        "str1 = 'w3resource'\n",
        "dict1 = {}\n",
        "for letter in str1:\n",
        "  dict1[letter] = dict1.get(letter, 0) + 1\n",
        "print(dict1)"
      ],
      "metadata": {
        "colab": {
          "base_uri": "https://localhost:8080/"
        },
        "id": "PkbMklRV6yAJ",
        "outputId": "c6ec8b35-7b2a-4303-e46d-53851a20c70a"
      },
      "execution_count": null,
      "outputs": [
        {
          "output_type": "stream",
          "name": "stdout",
          "text": [
            "{'w': 1, '3': 1, 'r': 2, 'e': 2, 's': 1, 'o': 1, 'u': 1, 'c': 1}\n"
          ]
        }
      ]
    },
    {
      "cell_type": "markdown",
      "source": [
        "18. Write a  Python program to sort Counter by value."
      ],
      "metadata": {
        "id": "v19675uf7xbb"
      }
    },
    {
      "cell_type": "code",
      "source": [
        "from collections import Counter\n",
        "x = Counter({'Math': 81, 'Physics': 83, 'Chemistry': 87})\n",
        "print(x.most_common())"
      ],
      "metadata": {
        "colab": {
          "base_uri": "https://localhost:8080/"
        },
        "id": "NQOq7cko7yft",
        "outputId": "36c2f6c2-0b6a-4ae5-a3b5-15c980c442de"
      },
      "execution_count": null,
      "outputs": [
        {
          "output_type": "stream",
          "name": "stdout",
          "text": [
            "[('Chemistry', 87), ('Physics', 83), ('Math', 81)]\n"
          ]
        }
      ]
    },
    {
      "cell_type": "markdown",
      "source": [
        "19. Write a  Python program to match key values in two dictionaries."
      ],
      "metadata": {
        "id": "Ncppg5Sj8FRN"
      }
    },
    {
      "cell_type": "code",
      "source": [
        "dict1 = {'key1': 1, 'key2': 3, 'key3': 2}\n",
        "dict2 = {'key1': 1, 'key2': 2}\n",
        "for (key, value) in set(dict1.items()) & set(dict2.items()):\n",
        "  print('%s: %s is present in both x and y')"
      ],
      "metadata": {
        "id": "ZGSLxnM08Ugp"
      },
      "execution_count": null,
      "outputs": []
    },
    {
      "cell_type": "markdown",
      "source": [
        "20. Write a  Python program to drop empty items from a given dictionary."
      ],
      "metadata": {
        "id": "ztFRsJya86yF"
      }
    },
    {
      "cell_type": "code",
      "source": [
        "dict1 = {'c1': 'Red', 'c2': 'Green', 'c3': None}\n",
        "print(\"Original Dictionary:\")\n",
        "print(dict1)\n",
        "print(\"New Dictionary:\")\n",
        "\n",
        "dict1 = {key: value for (key, value) in dict1.items() if value is not None}\n",
        "print(dict1)"
      ],
      "metadata": {
        "colab": {
          "base_uri": "https://localhost:8080/"
        },
        "id": "LlKzF0wl9Efs",
        "outputId": "082f59d1-d02e-4c84-cd1b-905add26b191"
      },
      "execution_count": null,
      "outputs": [
        {
          "output_type": "stream",
          "name": "stdout",
          "text": [
            "Original Dictionary:\n",
            "{'c1': 'Red', 'c2': 'Green', 'c3': None}\n",
            "New Dictionary:\n",
            "{'c1': 'Red', 'c2': 'Green'}\n"
          ]
        }
      ]
    }
  ]
}