{
  "nbformat": 4,
  "nbformat_minor": 0,
  "metadata": {
    "colab": {
      "provenance": [],
      "authorship_tag": "ABX9TyNCSyuJ5KoekkpVeNbG3gGx",
      "include_colab_link": true
    },
    "kernelspec": {
      "name": "python3",
      "display_name": "Python 3"
    },
    "language_info": {
      "name": "python"
    }
  },
  "cells": [
    {
      "cell_type": "markdown",
      "metadata": {
        "id": "view-in-github",
        "colab_type": "text"
      },
      "source": [
        "<a href=\"https://colab.research.google.com/github/Rejd10/pdstprog/blob/master/conditional_statements_and_loops.ipynb\" target=\"_parent\"><img src=\"https://colab.research.google.com/assets/colab-badge.svg\" alt=\"Open In Colab\"/></a>"
      ]
    },
    {
      "cell_type": "markdown",
      "source": [
        "1. Write a  Python program to find those numbers which are divisible by 7 and multiples of 5, between 1500 and 2700 (both included)."
      ],
      "metadata": {
        "id": "8UMPViPc9-nm"
      }
    },
    {
      "cell_type": "code",
      "execution_count": null,
      "metadata": {
        "colab": {
          "base_uri": "https://localhost:8080/"
        },
        "id": "MhpryXqA90aD",
        "outputId": "0ff94e96-1788-47aa-96f3-f697ef8ee9b5"
      },
      "outputs": [
        {
          "output_type": "stream",
          "name": "stdout",
          "text": [
            "1505,1540,1575,1610,1645,1680,1715,1750,1785,1820,1855,1890,1925,1960,1995,2030,2065,2100,2135,2170,2205,2240,2275,2310,2345,2380,2415,2450,2485,2520,2555,2590,2625,2660,2695\n"
          ]
        }
      ],
      "source": [
        "numb = []\n",
        "for x in range(1500, 2701):\n",
        "  if (x % 7 == 0) and (x % 5 == 0):\n",
        "    numb.append(str(x))\n",
        "print(','.join(numb))"
      ]
    },
    {
      "cell_type": "markdown",
      "source": [
        "2. Write a  Python program to guess a number between 1 and 9."
      ],
      "metadata": {
        "id": "q-bttMNe3aHL"
      }
    },
    {
      "cell_type": "code",
      "source": [
        "import random\n",
        "target_number, guess_number = random.randint(1,10), 0\n",
        "while target_number != guess_number:\n",
        "  guess_number = int(input(\"Guess a number between 1 and 10:  \"))\n",
        "print(\"Well guessed\")"
      ],
      "metadata": {
        "colab": {
          "base_uri": "https://localhost:8080/"
        },
        "id": "AVX8Xiqb3a_U",
        "outputId": "a489b606-57d2-4d4e-8aba-4d5a1d073f35"
      },
      "execution_count": null,
      "outputs": [
        {
          "output_type": "stream",
          "name": "stdout",
          "text": [
            "Guess a number between 1 and 101\n",
            "Guess a number between 1 and 102\n",
            "Guess a number between 1 and 103\n",
            "Guess a number between 1 and 104\n",
            "Guess a number between 1 and 105\n",
            "Well guessed\n"
          ]
        }
      ]
    },
    {
      "cell_type": "markdown",
      "source": [
        "3. Write a  Python program that accepts a word from the user and reverses it."
      ],
      "metadata": {
        "id": "GvJpTlCm4fCc"
      }
    },
    {
      "cell_type": "code",
      "source": [
        "word_input = input(\"Input a word: \")\n",
        "for char in range(len(word_input) - 1, -1, -1):\n",
        "  print(word_input[char], end=\"\")\n",
        "print(\"\\n\")"
      ],
      "metadata": {
        "colab": {
          "base_uri": "https://localhost:8080/"
        },
        "id": "dEoswqih4fmc",
        "outputId": "ab6b52b3-fc85-457e-a27e-e58fc7a471c5"
      },
      "execution_count": null,
      "outputs": [
        {
          "output_type": "stream",
          "name": "stdout",
          "text": [
            "Input a word: Python\n",
            "nohtyP\n",
            "\n"
          ]
        }
      ]
    },
    {
      "cell_type": "markdown",
      "source": [
        "4. Write a Python program that prints each item and its corresponding type from the following list.\n",
        "\n",
        "Sample List : datalist = [1452, 11.23, 1+2j, True, 'w3resource', (0, -1), [5, 12], {\"class\":'V', \"section\":'A'}]"
      ],
      "metadata": {
        "id": "5mhUfYj45Wqa"
      }
    },
    {
      "cell_type": "code",
      "source": [
        "datalist = [1452, 11.23, 1+2j, True, 'w3resource', (0, -1), [5, 12], {\"class\": 'V', \"section\": 'A'}]\n",
        "for item in datalist:\n",
        "  print(\"Type of\", item, \"is\", type(item))"
      ],
      "metadata": {
        "colab": {
          "base_uri": "https://localhost:8080/"
        },
        "id": "WmQsRvME5bQ9",
        "outputId": "c284f588-10f7-4d0f-db64-20d44a972c33"
      },
      "execution_count": null,
      "outputs": [
        {
          "output_type": "stream",
          "name": "stdout",
          "text": [
            "Type of 1452 is <class 'int'>\n",
            "Type of 11.23 is <class 'float'>\n",
            "Type of (1+2j) is <class 'complex'>\n",
            "Type of True is <class 'bool'>\n",
            "Type of w3resource is <class 'str'>\n",
            "Type of (0, -1) is <class 'tuple'>\n",
            "Type of [5, 12] is <class 'list'>\n",
            "Type of {'class': 'V', 'section': 'A'} is <class 'dict'>\n"
          ]
        }
      ]
    },
    {
      "cell_type": "markdown",
      "source": [
        "5. Write a  Python program that prints all the numbers from 0 to 6 except 3 and 6."
      ],
      "metadata": {
        "id": "DiFKSHkY5tnP"
      }
    },
    {
      "cell_type": "code",
      "source": [
        "for x in range(6):\n",
        "  if (x == 3 or x == 6):\n",
        "    continue\n",
        "  print(x, end=' ')\n",
        "print(\"\\n\")"
      ],
      "metadata": {
        "colab": {
          "base_uri": "https://localhost:8080/"
        },
        "id": "ROqQ-MCs5zID",
        "outputId": "19ec41b3-22de-485d-d5e0-8e0c61316fe7"
      },
      "execution_count": null,
      "outputs": [
        {
          "output_type": "stream",
          "name": "stdout",
          "text": [
            "0 1 2 4 5 \n",
            "\n"
          ]
        }
      ]
    },
    {
      "cell_type": "markdown",
      "source": [
        "6. Write a  Python program to get the Fibonacci series between 0 and 50."
      ],
      "metadata": {
        "id": "cuLTeL_C6DIx"
      }
    },
    {
      "cell_type": "code",
      "source": [
        "x, y = 0, 1\n",
        "while y < 50:\n",
        "  print(y)\n",
        "  x, y = y, x + y"
      ],
      "metadata": {
        "colab": {
          "base_uri": "https://localhost:8080/"
        },
        "id": "xtP1shEM6JVS",
        "outputId": "3be60bcc-d85c-4df5-ce4c-168de7e74f8a"
      },
      "execution_count": null,
      "outputs": [
        {
          "output_type": "stream",
          "name": "stdout",
          "text": [
            "1\n",
            "1\n",
            "2\n",
            "3\n",
            "5\n",
            "8\n",
            "13\n",
            "21\n",
            "34\n"
          ]
        }
      ]
    },
    {
      "cell_type": "markdown",
      "source": [
        "7. Write a Python program that iterates the integers from 1 to 50. For multiples of three print \"Fizz\" instead of the number and for multiples of five print \"Buzz\". For numbers that are multiples of three and five, print \"FizzBuzz\"."
      ],
      "metadata": {
        "id": "K2bk4oN76Xmm"
      }
    },
    {
      "cell_type": "code",
      "source": [
        "for fizzbuzz in range(51):\n",
        "  if fizzbuzz % 3 == 0 and fizzbuzz % 5 == 0:\n",
        "    print(\"fizzbuzz\")\n",
        "    continue\n",
        "  elif fizzbuzz % 3 == 0:\n",
        "    print(\"fizz\")\n",
        "    continue\n",
        "  elif fizzbuzz % 5 == 0:\n",
        "    print(\"buzz\")\n",
        "    continue\n",
        "  print(fizzbuzz)"
      ],
      "metadata": {
        "colab": {
          "base_uri": "https://localhost:8080/"
        },
        "id": "70IsE1Jf6in9",
        "outputId": "e08a8449-f742-471d-b394-8c088556170f"
      },
      "execution_count": null,
      "outputs": [
        {
          "output_type": "stream",
          "name": "stdout",
          "text": [
            "fizzbuzz\n",
            "1\n",
            "2\n",
            "fizz\n",
            "4\n",
            "buzz\n",
            "fizz\n",
            "7\n",
            "8\n",
            "fizz\n",
            "buzz\n",
            "11\n",
            "fizz\n",
            "13\n",
            "14\n",
            "fizzbuzz\n",
            "16\n",
            "17\n",
            "fizz\n",
            "19\n",
            "buzz\n",
            "fizz\n",
            "22\n",
            "23\n",
            "fizz\n",
            "buzz\n",
            "26\n",
            "fizz\n",
            "28\n",
            "29\n",
            "fizzbuzz\n",
            "31\n",
            "32\n",
            "fizz\n",
            "34\n",
            "buzz\n",
            "fizz\n",
            "37\n",
            "38\n",
            "fizz\n",
            "buzz\n",
            "41\n",
            "fizz\n",
            "43\n",
            "44\n",
            "fizzbuzz\n",
            "46\n",
            "47\n",
            "fizz\n",
            "49\n",
            "buzz\n"
          ]
        }
      ]
    },
    {
      "cell_type": "markdown",
      "source": [
        "8. Write a  Python program that accepts a sequence of lines (blank line to terminate) as input and prints the lines as output (all characters in lower case)."
      ],
      "metadata": {
        "id": "Nt3P6GoO7QUj"
      }
    },
    {
      "cell_type": "code",
      "source": [
        "lines = []\n",
        "while True:\n",
        "  l = input()\n",
        "  if l:\n",
        "    lines.append(l.upper())\n",
        "  else:\n",
        "    break;\n",
        "for l in lines:\n",
        "  print(l)"
      ],
      "metadata": {
        "colab": {
          "base_uri": "https://localhost:8080/"
        },
        "id": "YgQFMGRw7qI7",
        "outputId": "8c9fc061-28f1-4c68-c1e8-326f69fa02a0"
      },
      "execution_count": null,
      "outputs": [
        {
          "output_type": "stream",
          "name": "stdout",
          "text": [
            "Python\n",
            "Abcd\n",
            "\n",
            "PYTHON\n",
            "ABCD\n"
          ]
        }
      ]
    },
    {
      "cell_type": "markdown",
      "source": [
        "9. Write a  Python program that accepts a sequence of comma separated 4 digit binary numbers as its input. The program will print the numbers that are divisible by 5 in a comma separated sequence."
      ],
      "metadata": {
        "id": "UOwvvLyP8OJ5"
      }
    },
    {
      "cell_type": "code",
      "source": [
        "items = []\n",
        "numb = [x for x in input().split(',')]\n",
        "for p in numb:\n",
        "  x = int(p, 2)\n",
        "  if not x % 5:\n",
        "    items.append(p)\n",
        "print(','.join(items))"
      ],
      "metadata": {
        "colab": {
          "base_uri": "https://localhost:8080/"
        },
        "id": "4Zd_toFk8lti",
        "outputId": "1506d6c2-30c6-44e3-ca23-8ceec31eef01"
      },
      "execution_count": null,
      "outputs": [
        {
          "output_type": "stream",
          "name": "stdout",
          "text": [
            "1010\n",
            "1010\n"
          ]
        }
      ]
    },
    {
      "cell_type": "markdown",
      "source": [
        "10. Write a  Python program to check the validity of passwords input by users.\n",
        "Validation :\n",
        "\n",
        "- At least 1 letter between [a-z] and 1 letter between [A-Z].\n",
        "- At least 1 number between [0-9].\n",
        "- At least 1 character from [$#@].\n",
        "- Minimum length 6 characters.\n",
        "- Maximum length 16 characters."
      ],
      "metadata": {
        "id": "iUzVZAat9hBn"
      }
    },
    {
      "cell_type": "code",
      "source": [
        "import re\n",
        "passwd = input(\"Input password: \")\n",
        "x = True\n",
        "while x:\n",
        "  if (len(passwd) < 6 or len(passwd) > 12):\n",
        "    break\n",
        "  elif not re.search(\"[a-z]\", passwd):\n",
        "    break\n",
        "  elif not re.search(\"[0-9]\", passwd):\n",
        "    break\n",
        "  elif not re.search(\"[A-Z]\", passwd):\n",
        "    break\n",
        "  elif not re.search(\"[$#@]\", passwd):\n",
        "    break\n",
        "  elif re.search(\"\\s\", passwd):\n",
        "    break\n",
        "  else:\n",
        "    print(\"Valid password\")\n",
        "    x = False\n",
        "    break\n",
        "if x:\n",
        "  print(\"Not a valid password\")"
      ],
      "metadata": {
        "colab": {
          "base_uri": "https://localhost:8080/"
        },
        "id": "6lINTtXS92Qt",
        "outputId": "9a4b911b-4491-489a-f442-2d8af5aaee75"
      },
      "execution_count": null,
      "outputs": [
        {
          "output_type": "stream",
          "name": "stdout",
          "text": [
            "Input passworda\n",
            "Not a valid password\n"
          ]
        }
      ]
    },
    {
      "cell_type": "markdown",
      "source": [
        "11. Write a  Python program to check whether an alphabet is a vowel or consonant."
      ],
      "metadata": {
        "id": "rtZgholE_SSs"
      }
    },
    {
      "cell_type": "code",
      "source": [
        "l = input(\"Input a letter: \")\n",
        "if l in ('a', 'e', 'i', 'o', 'u', 'y'):\n",
        "  print(\"%s is a vowel\" % l)\n",
        "else:\n",
        "  print(\"%s is a consonant\" % l)"
      ],
      "metadata": {
        "colab": {
          "base_uri": "https://localhost:8080/"
        },
        "id": "Ta-NICof_wRs",
        "outputId": "b6927aba-68a9-4eac-89b4-a64779f61e1e"
      },
      "execution_count": null,
      "outputs": [
        {
          "output_type": "stream",
          "name": "stdout",
          "text": [
            "Input a letter: b\n",
            "b is a consonant\n"
          ]
        }
      ]
    },
    {
      "cell_type": "markdown",
      "source": [
        "12. Write a Python program to convert a month name to a number of days."
      ],
      "metadata": {
        "id": "fVaLx8B2tsOR"
      }
    },
    {
      "cell_type": "code",
      "source": [
        "print(\"List of months: January, February, March, April, May, June, July, August, September, October, November, December\")\n",
        "month_n = input(\"Input the name of month: \")\n",
        "\n",
        "if month_n == \"February\":\n",
        "  print(\"No. of days: 28/29 days\")\n",
        "elif month_n in (\"January\", \"March\", \"May\", \"July\", \"August\", \"October\", \"December\"):\n",
        "  print(\"No. of days: 31 days\")\n",
        "elif month_n in (\"April\", \"June\", \"September\", \"November\"):\n",
        "  print(\"No. of days: 30 days\")\n",
        "else:\n",
        "  print(\"Wrong name\")"
      ],
      "metadata": {
        "colab": {
          "base_uri": "https://localhost:8080/"
        },
        "id": "N8i1uf1tuHxi",
        "outputId": "cdc1ef0a-b445-4374-dbcc-c1ecaf44c888"
      },
      "execution_count": 1,
      "outputs": [
        {
          "output_type": "stream",
          "name": "stdout",
          "text": [
            "List of months: January, February, March, April, May, June, July, August, September, October, November, December\n",
            "Input the name of month: March\n",
            "No. of days: 31 days\n"
          ]
        }
      ]
    },
    {
      "cell_type": "markdown",
      "source": [
        "13. Write a  Python program to sum two integers. However, if the sum is between 15 and 20 it will return 20."
      ],
      "metadata": {
        "id": "6rVSBZG1wCL7"
      }
    },
    {
      "cell_type": "code",
      "source": [
        "def sum(x, y):\n",
        "  sum = x + y\n",
        "  if sum in range(15, 20):\n",
        "    return 20\n",
        "  else:\n",
        "    return sum\n",
        "print(sum(5,8))\n",
        "print(sum(9,7))"
      ],
      "metadata": {
        "colab": {
          "base_uri": "https://localhost:8080/"
        },
        "id": "utGbe3vewQnH",
        "outputId": "d744c6fc-c960-46db-eeea-96695296f369"
      },
      "execution_count": 2,
      "outputs": [
        {
          "output_type": "stream",
          "name": "stdout",
          "text": [
            "13\n",
            "20\n"
          ]
        }
      ]
    },
    {
      "cell_type": "markdown",
      "source": [
        "14. Write a  Python program that reads two integers representing a month and day and prints the season for that month and day."
      ],
      "metadata": {
        "id": "mEi_Hn2QwtsU"
      }
    },
    {
      "cell_type": "code",
      "source": [
        "month = input(\"Input the month (e.g. January, February etc.): \")\n",
        "day = input(\"Input the day: \")\n",
        "\n",
        "if month in ('January', 'February', 'March'):\n",
        "  season = \"Winter\"\n",
        "elif month in ('April', 'May', 'June'):\n",
        "  season = \"Spring\"\n",
        "elif month in ('July', 'August', 'September'):\n",
        "  season = \"Summer\"\n",
        "else:\n",
        "  season = \"Autumn\"\n",
        "\n",
        "if (month == 'March') and (day > 19):\n",
        "  season = 'Spring'\n",
        "elif (month == 'June') and (day > 20):\n",
        "  season = 'Summer'\n",
        "elif (month == 'September') and (day > 21):\n",
        "  season = 'Autumn'\n",
        "elif (month == 'December') and (day > 20):\n",
        "  season = 'Winter'\n",
        "\n",
        "print(\"Season is: \", season)"
      ],
      "metadata": {
        "colab": {
          "base_uri": "https://localhost:8080/"
        },
        "id": "oG1QAglcxb0G",
        "outputId": "941c59a3-7d2d-4f07-d7d5-780615c344f2"
      },
      "execution_count": 3,
      "outputs": [
        {
          "output_type": "stream",
          "name": "stdout",
          "text": [
            "Input the month (e.g. January, February etc.): January\n",
            "Input the day: 20\n",
            "Season is:  Winter\n"
          ]
        }
      ]
    },
    {
      "cell_type": "markdown",
      "source": [
        "15. Write a Python program to find the median of three values."
      ],
      "metadata": {
        "id": "bT3qBXc1znkX"
      }
    },
    {
      "cell_type": "code",
      "source": [
        "x = float(input(\"Input first number: \"))\n",
        "y = float(input(\"Input second number: \"))\n",
        "z = float(input(\"Input third number: \"))\n",
        "\n",
        "if x > y:\n",
        "  if x < z:\n",
        "    median = x\n",
        "  elif y > z:\n",
        "    median = y\n",
        "  else:\n",
        "    median = z\n",
        "else:\n",
        "  if x > z:\n",
        "    median = x\n",
        "  elif y < z:\n",
        "    median = y\n",
        "  else:\n",
        "    median = z\n",
        "\n",
        "print(\"Median : \", median)\n"
      ],
      "metadata": {
        "colab": {
          "base_uri": "https://localhost:8080/"
        },
        "id": "cndlYqH-0N8P",
        "outputId": "579b5fed-071c-4c51-cc6d-0d0c3eb6ea4f"
      },
      "execution_count": 4,
      "outputs": [
        {
          "output_type": "stream",
          "name": "stdout",
          "text": [
            "Input first number: 10\n",
            "Input second number: 5\n",
            "Input third number: 80\n",
            "Median :  10.0\n"
          ]
        }
      ]
    },
    {
      "cell_type": "markdown",
      "source": [
        "16. Write a Python program to create the multiplication table (from 1 to 10) of a number."
      ],
      "metadata": {
        "id": "P76KblGR1rTY"
      }
    },
    {
      "cell_type": "code",
      "source": [
        "numb = int(input(\"Input a number: \"))\n",
        "for i in range(1, 11):\n",
        "  print(numb, 'x', i, '=', numb * i)"
      ],
      "metadata": {
        "colab": {
          "base_uri": "https://localhost:8080/"
        },
        "id": "Dpn63prA2DlA",
        "outputId": "f69c01e4-e1b9-47f8-ed5e-c619a539fa33"
      },
      "execution_count": 6,
      "outputs": [
        {
          "output_type": "stream",
          "name": "stdout",
          "text": [
            "Input a number: 6\n",
            "6 x 1 = 6\n",
            "6 x 2 = 12\n",
            "6 x 3 = 18\n",
            "6 x 4 = 24\n",
            "6 x 5 = 30\n",
            "6 x 6 = 36\n",
            "6 x 7 = 42\n",
            "6 x 8 = 48\n",
            "6 x 9 = 54\n",
            "6 x 10 = 60\n"
          ]
        }
      ]
    },
    {
      "cell_type": "markdown",
      "source": [
        "17.Write a  Python program to construct the following pattern, using a nested loop number.\n",
        "Expected Output:\n",
        "\n",
        "1\n",
        "22\n",
        "333\n",
        "4444\n",
        "55555\n",
        "666666\n",
        "7777777\n",
        "88888888\n",
        "999999999\n"
      ],
      "metadata": {
        "id": "W6qBP3yC2bKj"
      }
    },
    {
      "cell_type": "code",
      "source": [
        "for i in range(10):\n",
        "  print(str(i) * i)"
      ],
      "metadata": {
        "colab": {
          "base_uri": "https://localhost:8080/"
        },
        "id": "0_vY9wX42ooz",
        "outputId": "75a758c0-c23e-4d1d-9b06-66de4c6b1435"
      },
      "execution_count": 7,
      "outputs": [
        {
          "output_type": "stream",
          "name": "stdout",
          "text": [
            "\n",
            "1\n",
            "22\n",
            "333\n",
            "4444\n",
            "55555\n",
            "666666\n",
            "7777777\n",
            "88888888\n",
            "999999999\n"
          ]
        }
      ]
    },
    {
      "cell_type": "markdown",
      "source": [
        "18. Write a Python program to check if a triangle is equilateral, isosceles or scalene."
      ],
      "metadata": {
        "id": "nZUPrF7E3eyh"
      }
    },
    {
      "cell_type": "code",
      "source": [
        "print(\"Input lengths of triangle sides: \")\n",
        "x = int(input(\"x: \"))\n",
        "y = int(input(\"y: \"))\n",
        "z = int(input(\"z: \"))\n",
        "\n",
        "if x == y == z:\n",
        "  print(\"Equilateral triangle\")\n",
        "elif x == y or y == z or z == x:\n",
        "  print(\"Isosceles triangle\")\n",
        "else:\n",
        "  print(\"Scalene triangle\")"
      ],
      "metadata": {
        "colab": {
          "base_uri": "https://localhost:8080/"
        },
        "id": "HmDZ25R64BOF",
        "outputId": "f46c0e34-22cc-4ee1-868d-5c436ca43021"
      },
      "execution_count": 8,
      "outputs": [
        {
          "output_type": "stream",
          "name": "stdout",
          "text": [
            "Input lengths of triangle sides: \n",
            "x: 5\n",
            "y: 5\n",
            "z: 5\n",
            "Equilateral triangle\n"
          ]
        }
      ]
    },
    {
      "cell_type": "markdown",
      "source": [
        "19. Write a Python program to calculate a dog's age in dog years.\n",
        "Note: For the first two years, a dog year is equal to 10.5 human years. After that, each dog year equals 4 human years."
      ],
      "metadata": {
        "id": "W2mQnyqa5Gw3"
      }
    },
    {
      "cell_type": "code",
      "source": [
        "human_age = int(input(\"Input a dog's age in human years: \"))\n",
        "if human_age < 0:\n",
        "  print(\"Wrong number\")\n",
        "  exit()\n",
        "elif human_age <= 2:\n",
        "  dog_age = human_age * 10.5\n",
        "else:\n",
        "  d_age = 21 + (human_age - 2) * 4\n",
        "\n",
        "print(\"The dog's age in dog's years is \", d_age)"
      ],
      "metadata": {
        "colab": {
          "base_uri": "https://localhost:8080/"
        },
        "id": "hyy1Nc8I5Zna",
        "outputId": "39109dea-2455-49a8-ece0-89e982a7d129"
      },
      "execution_count": 10,
      "outputs": [
        {
          "output_type": "stream",
          "name": "stdout",
          "text": [
            "Input a dog's age in human years: 5\n",
            "The dog's age in dog's years is  33\n"
          ]
        }
      ]
    },
    {
      "cell_type": "markdown",
      "source": [
        "20. Write a Python program to print the alphabet pattern 'L'."
      ],
      "metadata": {
        "id": "983CAP7u6ePm"
      }
    },
    {
      "cell_type": "code",
      "source": [
        "res_str = \"\"\n",
        "for row in range(0, 7):\n",
        "  for column in range(0, 7):\n",
        "    if (column == 1 or (row == 6 and column != 0 and column  < 6)):\n",
        "      res_str = res_str + \"*\"\n",
        "    else:\n",
        "      res_str = res_str + \" \"\n",
        "  res_str = res_str + \"\\n\"\n",
        "print(res_str)"
      ],
      "metadata": {
        "colab": {
          "base_uri": "https://localhost:8080/"
        },
        "id": "sq1zGTSh6Gnu",
        "outputId": "a2dc4f9c-ff53-4cdd-9a05-a2fb9634df0a"
      },
      "execution_count": 11,
      "outputs": [
        {
          "output_type": "stream",
          "name": "stdout",
          "text": [
            " *     \n",
            " *     \n",
            " *     \n",
            " *     \n",
            " *     \n",
            " *     \n",
            " ***** \n",
            "\n"
          ]
        }
      ]
    }
  ]
}