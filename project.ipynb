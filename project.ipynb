{
  "nbformat": 4,
  "nbformat_minor": 0,
  "metadata": {
    "colab": {
      "provenance": [],
      "authorship_tag": "ABX9TyMdEgz32B6hsVfTOjuXupwr",
      "include_colab_link": true
    },
    "kernelspec": {
      "name": "python3",
      "display_name": "Python 3"
    },
    "language_info": {
      "name": "python"
    }
  },
  "cells": [
    {
      "cell_type": "markdown",
      "metadata": {
        "id": "view-in-github",
        "colab_type": "text"
      },
      "source": [
        "<a href=\"https://colab.research.google.com/github/Rejd10/pdstprog/blob/project/project.ipynb\" target=\"_parent\"><img src=\"https://colab.research.google.com/assets/colab-badge.svg\" alt=\"Open In Colab\"/></a>"
      ]
    },
    {
      "cell_type": "code",
      "source": [
        "import random\n",
        "\n",
        "def guess_number():\n",
        "    name = input(\"What is your name? \")\n",
        "    print(\"Good Luck!\", name)\n",
        "\n",
        "    # Wybór poziomu trudności\n",
        "    print(\"Choose difficulty level:\")\n",
        "    print(\"1. Easy (1-50, 15 attempts)\")\n",
        "    print(\"2. Medium (1-100, 12 attempts)\")\n",
        "    print(\"3. Hard (1-200, 8 attempts)\")\n",
        "\n",
        "    difficulty = int(input(\"Enter the difficulty level (1, 2, or 3): \"))\n",
        "\n",
        "    if difficulty == 1:\n",
        "        lower_bound, upper_bound, attempts = 1, 50, 15\n",
        "    elif difficulty == 2:\n",
        "        lower_bound, upper_bound, attempts = 1, 100, 12\n",
        "    elif difficulty == 3:\n",
        "        lower_bound, upper_bound, attempts = 1, 200, 8\n",
        "    else:\n",
        "        print(\"Invalid choice, defaulting to Medium level\")\n",
        "        lower_bound, upper_bound, attempts = 1, 100, 10\n",
        "\n",
        "    # Losowanie liczby\n",
        "    number = random.randint(lower_bound, upper_bound)\n",
        "\n",
        "    print(f\"Guess the number between {lower_bound} and {upper_bound}\")\n",
        "\n",
        "    history = []\n",
        "\n",
        "    while attempts > 0:\n",
        "        guess = int(input(\"Enter your guess: \"))\n",
        "        history.append(guess)\n",
        "\n",
        "        if guess == number:\n",
        "            print(\"Congratulations, you guessed it!\")\n",
        "            break\n",
        "        elif guess < number:\n",
        "            print(\"Too low!\")\n",
        "        else:\n",
        "            print(\"Too high!\")\n",
        "\n",
        "        attempts -= 1\n",
        "        print(f\"You have {attempts} attempts left\")\n",
        "\n",
        "        # Wyświetlanie historii prób\n",
        "        print(\"Your guesses so far:\", history)\n",
        "\n",
        "        # Podpowiedź\n",
        "        if attempts <= 5:\n",
        "            if number > lower_bound + (upper_bound - lower_bound) // 2:\n",
        "                print(\"Hint: The number is in the upper half of the range\")\n",
        "            else:\n",
        "                print(\"Hint: The number is in the lower half of the range\")\n",
        "\n",
        "    if attempts == 0:\n",
        "        print(f\"Sorry, you ran out of attempts. The number was {number}\")\n",
        "\n",
        "if __name__ == \"__main__\":\n",
        "    guess_number()\n"
      ],
      "metadata": {
        "colab": {
          "base_uri": "https://localhost:8080/"
        },
        "id": "ff3z0AnU-xUw",
        "outputId": "ddb14755-5cd1-4d06-efa6-2580a12701b1"
      },
      "execution_count": null,
      "outputs": [
        {
          "output_type": "stream",
          "name": "stdout",
          "text": [
            "What is your name? Kacper\n",
            "Good Luck! Kacper\n",
            "Choose difficulty level:\n",
            "1. Easy (1-50, 15 attempts)\n",
            "2. Medium (1-100, 12 attempts)\n",
            "3. Hard (1-200, 8 attempts)\n",
            "Enter the difficulty level (1, 2, or 3): 3\n",
            "Guess the number between 1 and 200\n",
            "Enter your guess: 1\n",
            "Too low!\n",
            "You have 7 attempts left\n",
            "Your guesses so far: [1]\n",
            "Enter your guess: 2\n",
            "Too low!\n",
            "You have 6 attempts left\n",
            "Your guesses so far: [1, 2]\n",
            "Enter your guess: 3\n",
            "Too low!\n",
            "You have 5 attempts left\n",
            "Your guesses so far: [1, 2, 3]\n",
            "Hint: The number is in the upper half of the range\n",
            "Enter your guess: 4\n",
            "Too low!\n",
            "You have 4 attempts left\n",
            "Your guesses so far: [1, 2, 3, 4]\n",
            "Hint: The number is in the upper half of the range\n",
            "Enter your guess: 5\n",
            "Too low!\n",
            "You have 3 attempts left\n",
            "Your guesses so far: [1, 2, 3, 4, 5]\n",
            "Hint: The number is in the upper half of the range\n",
            "Enter your guess: 6\n",
            "Too low!\n",
            "You have 2 attempts left\n",
            "Your guesses so far: [1, 2, 3, 4, 5, 6]\n",
            "Hint: The number is in the upper half of the range\n",
            "Enter your guess: 7\n",
            "Too low!\n",
            "You have 1 attempts left\n",
            "Your guesses so far: [1, 2, 3, 4, 5, 6, 7]\n",
            "Hint: The number is in the upper half of the range\n",
            "Enter your guess: 8\n",
            "Too low!\n",
            "You have 0 attempts left\n",
            "Your guesses so far: [1, 2, 3, 4, 5, 6, 7, 8]\n",
            "Hint: The number is in the upper half of the range\n",
            "Sorry, you ran out of attempts. The number was 172\n"
          ]
        }
      ]
    }
  ]
}