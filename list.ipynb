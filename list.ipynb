{
  "nbformat": 4,
  "nbformat_minor": 0,
  "metadata": {
    "colab": {
      "provenance": [],
      "authorship_tag": "ABX9TyMt6geUkfdo5PL4MDw4EBJJ",
      "include_colab_link": true
    },
    "kernelspec": {
      "name": "python3",
      "display_name": "Python 3"
    },
    "language_info": {
      "name": "python"
    }
  },
  "cells": [
    {
      "cell_type": "markdown",
      "metadata": {
        "id": "view-in-github",
        "colab_type": "text"
      },
      "source": [
        "<a href=\"https://colab.research.google.com/github/Rejd10/pdstprog/blob/exercises/list.ipynb\" target=\"_parent\"><img src=\"https://colab.research.google.com/assets/colab-badge.svg\" alt=\"Open In Colab\"/></a>"
      ]
    },
    {
      "cell_type": "markdown",
      "source": [
        "1. Write a  Python program to sum all the items in a list."
      ],
      "metadata": {
        "id": "rgHM4L_ok7XZ"
      }
    },
    {
      "cell_type": "code",
      "execution_count": null,
      "metadata": {
        "colab": {
          "base_uri": "https://localhost:8080/"
        },
        "id": "gU6FUXXGkoNc",
        "outputId": "289c58bb-b7fe-402f-bfed-6249d3de8344"
      },
      "outputs": [
        {
          "output_type": "stream",
          "name": "stdout",
          "text": [
            "15\n"
          ]
        }
      ],
      "source": [
        "def sum_list(items):\n",
        "  sum_num = 0\n",
        "  for x in items:\n",
        "    sum_num += x\n",
        "\n",
        "  return sum_num\n",
        "\n",
        "print(sum_list([1, 2, 3, 4, 5]))"
      ]
    },
    {
      "cell_type": "markdown",
      "source": [
        "2. Write a  Python program to multiply all the items in a list."
      ],
      "metadata": {
        "id": "pUW8fwwYlbnO"
      }
    },
    {
      "cell_type": "code",
      "source": [
        "def list_multiply(items):\n",
        "  a = 1\n",
        "  for x in items:\n",
        "    a *= x\n",
        "  return a\n",
        "\n",
        "print(list_multiply([1, 2, 3, 4, 5]))"
      ],
      "metadata": {
        "colab": {
          "base_uri": "https://localhost:8080/"
        },
        "id": "YBErP5ndleeA",
        "outputId": "490216ee-6131-4129-abd7-e75b4d425452"
      },
      "execution_count": null,
      "outputs": [
        {
          "output_type": "stream",
          "name": "stdout",
          "text": [
            "120\n"
          ]
        }
      ]
    },
    {
      "cell_type": "markdown",
      "source": [
        "3. Write a Python program to get the largest number from a list."
      ],
      "metadata": {
        "id": "GoRFhkiHml9Z"
      }
    },
    {
      "cell_type": "code",
      "source": [
        "def largest_num(list):\n",
        "  max = list[0]\n",
        "  for x in list:\n",
        "    if x > max:\n",
        "      max = x\n",
        "  return max\n",
        "\n",
        "print(largest_num([1,2,3,4,5]))\n"
      ],
      "metadata": {
        "colab": {
          "base_uri": "https://localhost:8080/"
        },
        "id": "dBjMuueQmMcy",
        "outputId": "9319d323-a58e-44c0-e6d8-2e490d4b26c8"
      },
      "execution_count": null,
      "outputs": [
        {
          "output_type": "stream",
          "name": "stdout",
          "text": [
            "5\n"
          ]
        }
      ]
    },
    {
      "cell_type": "markdown",
      "source": [
        "4. Write a Python program to get the smallest number from a list."
      ],
      "metadata": {
        "id": "4zTqGgLTnN-m"
      }
    },
    {
      "cell_type": "code",
      "source": [
        "def smallest_num(list):\n",
        "  min = list[0]\n",
        "  for x in list:\n",
        "    if x < min:\n",
        "      min = x\n",
        "  return min\n",
        "\n",
        "print(smallest_num([1,2,3,4,5]))"
      ],
      "metadata": {
        "colab": {
          "base_uri": "https://localhost:8080/"
        },
        "id": "rZ3flRVwnUVP",
        "outputId": "b14870af-6763-437b-a66f-197110047c2b"
      },
      "execution_count": null,
      "outputs": [
        {
          "output_type": "stream",
          "name": "stdout",
          "text": [
            "1\n"
          ]
        }
      ]
    },
    {
      "cell_type": "markdown",
      "source": [
        "5.  Write a Python program to count the number of strings from a given list of strings. The string length is 2 or more and the first and last characters are the same."
      ],
      "metadata": {
        "id": "ysa2mxLNoES-"
      }
    },
    {
      "cell_type": "code",
      "source": [
        "def strings_count(words):\n",
        "  number = 0\n",
        "  for word in words:\n",
        "    if len(word) >= 2 and word[0] == word[-1]:\n",
        "      number += 1\n",
        "  return number\n",
        "\n",
        "print(strings_count(['abc', 'xyz', 'aba', '1221']))"
      ],
      "metadata": {
        "colab": {
          "base_uri": "https://localhost:8080/"
        },
        "id": "gs7Vz95EoHUX",
        "outputId": "b4b8945c-5443-4551-b44b-dd7b0a659355"
      },
      "execution_count": null,
      "outputs": [
        {
          "output_type": "stream",
          "name": "stdout",
          "text": [
            "2\n"
          ]
        }
      ]
    },
    {
      "cell_type": "markdown",
      "source": [
        "6. Write a Python program to get a list, sorted in increasing order by the last element in each tuple from a given list of non-empty tuples."
      ],
      "metadata": {
        "id": "sGeP9F1QHw4a"
      }
    },
    {
      "cell_type": "code",
      "source": [
        "def last(number):\n",
        "  return number[-1]\n",
        "\n",
        "def sort_last_element(tuples):\n",
        "  return sorted(tuples, key=last)\n",
        "\n",
        "print(sort_last_element([(2, 5), (1, 2), (4, 4), (2, 3), (2, 1)]))"
      ],
      "metadata": {
        "colab": {
          "base_uri": "https://localhost:8080/"
        },
        "id": "B8eQyz9qIMs6",
        "outputId": "ac3c17b8-7d74-4b10-9e01-dcd7ba5663fb"
      },
      "execution_count": null,
      "outputs": [
        {
          "output_type": "stream",
          "name": "stdout",
          "text": [
            "[(2, 1), (1, 2), (2, 3), (4, 4), (2, 5)]\n"
          ]
        }
      ]
    },
    {
      "cell_type": "markdown",
      "source": [
        "7. Write a  Python program to remove duplicates from a list."
      ],
      "metadata": {
        "id": "PvgNH7yR7GMt"
      }
    },
    {
      "cell_type": "code",
      "source": [
        "list_a = [1, 2, 3, 4, 5, 1, 2, 8, 9]\n",
        "\n",
        "duplicate_items = set()\n",
        "unique_items = []\n",
        "\n",
        "for x in list_a:\n",
        "  if x not in duplicate_items:\n",
        "    unique_items.append(x)\n",
        "    duplicate_items.add(x)\n",
        "\n",
        "print(duplicate_items)"
      ],
      "metadata": {
        "colab": {
          "base_uri": "https://localhost:8080/"
        },
        "id": "fOsIP1mG7JWe",
        "outputId": "f8b959e1-d5bd-487c-983c-1c59e380c26f"
      },
      "execution_count": null,
      "outputs": [
        {
          "output_type": "stream",
          "name": "stdout",
          "text": [
            "{1, 2, 3, 4, 5, 8, 9}\n"
          ]
        }
      ]
    },
    {
      "cell_type": "markdown",
      "source": [
        "8. Write a  Python program to check if a list is empty or not."
      ],
      "metadata": {
        "id": "eoS4XMZL8F3z"
      }
    },
    {
      "cell_type": "code",
      "source": [
        "list_a = []\n",
        "if not list_a:\n",
        "  print(\"List is empty\")\n",
        "else:\n",
        "  print(\"List is not empty\")"
      ],
      "metadata": {
        "colab": {
          "base_uri": "https://localhost:8080/"
        },
        "id": "lg6XvGQ28Ojj",
        "outputId": "b80053b1-a540-4b15-cd6e-889dfbd6c5ac"
      },
      "execution_count": null,
      "outputs": [
        {
          "output_type": "stream",
          "name": "stdout",
          "text": [
            "List is empty\n"
          ]
        }
      ]
    },
    {
      "cell_type": "markdown",
      "source": [
        "9. Write a Python program to clone or copy a list."
      ],
      "metadata": {
        "id": "QQ95V0jS8nWF"
      }
    },
    {
      "cell_type": "code",
      "source": [
        "list_original = [1, 2, 3, 4, 5]\n",
        "list_clone = list(list_original)\n",
        "print(list_clone)"
      ],
      "metadata": {
        "colab": {
          "base_uri": "https://localhost:8080/"
        },
        "id": "CqGJSFL58xZz",
        "outputId": "86bf3abb-c4b6-4429-bafd-008836a6011d"
      },
      "execution_count": null,
      "outputs": [
        {
          "output_type": "stream",
          "name": "stdout",
          "text": [
            "[1, 2, 3, 4, 5]\n"
          ]
        }
      ]
    },
    {
      "cell_type": "markdown",
      "source": [
        "10. Write a Python program to find the list of words that are longer than n from a given list of words."
      ],
      "metadata": {
        "id": "5VTaFQ3w9OnY"
      }
    },
    {
      "cell_type": "code",
      "source": [
        "def n_words(n, str):\n",
        "  words_len = []\n",
        "  text = str.split(\" \")\n",
        "  for x in text:\n",
        "    if len(x) > n:\n",
        "      words_len.append(x)\n",
        "  return words_len\n",
        "\n",
        "print(n_words(3, \"Sample text a\"))"
      ],
      "metadata": {
        "colab": {
          "base_uri": "https://localhost:8080/"
        },
        "id": "FhAUuRvg9kFZ",
        "outputId": "ea634de6-81e1-400a-c8fd-b87604c203f7"
      },
      "execution_count": null,
      "outputs": [
        {
          "output_type": "stream",
          "name": "stdout",
          "text": [
            "['Sample', 'text']\n"
          ]
        }
      ]
    },
    {
      "cell_type": "markdown",
      "source": [
        "11. Write a  Python program to print the numbers of a specified list after removing even numbers from it."
      ],
      "metadata": {
        "id": "Kfg7WmNT-hGc"
      }
    },
    {
      "cell_type": "code",
      "source": [
        "num_list = [1, 2, 3, 4, 5, 6, 7, 8, 9, 10]\n",
        "num_list = [x for x in num_list if x % 2 != 0]\n",
        "print(num_list)"
      ],
      "metadata": {
        "colab": {
          "base_uri": "https://localhost:8080/"
        },
        "id": "lRL6Alfg-siS",
        "outputId": "e5404115-6a80-4939-8476-5ba2e4847b9e"
      },
      "execution_count": null,
      "outputs": [
        {
          "output_type": "stream",
          "name": "stdout",
          "text": [
            "[1, 3, 5, 7, 9]\n"
          ]
        }
      ]
    },
    {
      "cell_type": "markdown",
      "source": [
        "12. Write a Python program to shuffle and print a specified list."
      ],
      "metadata": {
        "id": "nUQsKyKd_NvE"
      }
    },
    {
      "cell_type": "code",
      "source": [
        "from random import shuffle\n",
        "num_list = [1, 2, 3, 4, 5, 6, 7, 8, 9, 10]\n",
        "shuffle(num_list)\n",
        "print(num_list)"
      ],
      "metadata": {
        "colab": {
          "base_uri": "https://localhost:8080/"
        },
        "id": "XrzNCdfM_V-C",
        "outputId": "767c6069-4ac3-4ea7-fd17-b85df4526bb0"
      },
      "execution_count": null,
      "outputs": [
        {
          "output_type": "stream",
          "name": "stdout",
          "text": [
            "[8, 6, 1, 7, 5, 10, 4, 9, 2, 3]\n"
          ]
        }
      ]
    },
    {
      "cell_type": "markdown",
      "source": [
        "13. Write a Python program to access the index of a list."
      ],
      "metadata": {
        "id": "-heWN8Ak_me9"
      }
    },
    {
      "cell_type": "code",
      "source": [
        "num_list = [5, 4, 3, 2, 1]\n",
        "for num_index, num_value in enumerate(num_list):\n",
        "  print(num_index, num_value)"
      ],
      "metadata": {
        "colab": {
          "base_uri": "https://localhost:8080/"
        },
        "id": "nruervyA_5V0",
        "outputId": "28fffea2-2064-4383-aecb-ae6333d4c64b"
      },
      "execution_count": null,
      "outputs": [
        {
          "output_type": "stream",
          "name": "stdout",
          "text": [
            "0 5\n",
            "1 4\n",
            "2 3\n",
            "3 2\n",
            "4 1\n"
          ]
        }
      ]
    },
    {
      "cell_type": "markdown",
      "source": [
        "14. Write a Python program to convert a list of characters into a string."
      ],
      "metadata": {
        "id": "eGvFo9mjAWRD"
      }
    },
    {
      "cell_type": "code",
      "source": [
        "char_list = ['P', 'y', 't', 'h', 'o', 'n']\n",
        "str1 = ''.join(char_list)\n",
        "print(str1)"
      ],
      "metadata": {
        "colab": {
          "base_uri": "https://localhost:8080/"
        },
        "id": "2EyUAKqnApUp",
        "outputId": "34343ca3-ae1b-45f0-cc2f-a684bae62089"
      },
      "execution_count": null,
      "outputs": [
        {
          "output_type": "stream",
          "name": "stdout",
          "text": [
            "Python\n"
          ]
        }
      ]
    },
    {
      "cell_type": "markdown",
      "source": [
        "15. Write a Python program to find the index of an item in a specified list."
      ],
      "metadata": {
        "id": "jfXyp4noBHt7"
      }
    },
    {
      "cell_type": "code",
      "source": [
        "num_list = [5, 4, 3, 2, 1]\n",
        "print(num_list.index(2))"
      ],
      "metadata": {
        "colab": {
          "base_uri": "https://localhost:8080/"
        },
        "id": "8VRQlBx3BYzF",
        "outputId": "6971cf5b-3046-4ca7-d64f-137287ec68c0"
      },
      "execution_count": null,
      "outputs": [
        {
          "output_type": "stream",
          "name": "stdout",
          "text": [
            "3\n"
          ]
        }
      ]
    },
    {
      "cell_type": "markdown",
      "source": [
        "16. Write a Python program to append a list to the second list."
      ],
      "metadata": {
        "id": "Sha9Dh_FB4f-"
      }
    },
    {
      "cell_type": "code",
      "source": [
        "first_list = [1, 2, 3, 4, 5]\n",
        "second_list = [6, 7, 8, 9]\n",
        "append_list = first_list + second_list\n",
        "print(append_list)"
      ],
      "metadata": {
        "colab": {
          "base_uri": "https://localhost:8080/"
        },
        "id": "PREtNztKB6gV",
        "outputId": "dcd0d125-9366-4d5f-ce40-73ff619a895b"
      },
      "execution_count": null,
      "outputs": [
        {
          "output_type": "stream",
          "name": "stdout",
          "text": [
            "[1, 2, 3, 4, 5, 6, 7, 8, 9]\n"
          ]
        }
      ]
    },
    {
      "cell_type": "markdown",
      "source": [
        "17. Write a Python program to select an item randomly from a list."
      ],
      "metadata": {
        "id": "YDVkzbTBCTiW"
      }
    },
    {
      "cell_type": "code",
      "source": [
        "import random\n",
        "num_list = [1, 2, 3, 4, 5]\n",
        "print(random.choice(num_list))"
      ],
      "metadata": {
        "colab": {
          "base_uri": "https://localhost:8080/"
        },
        "id": "RkYRkGHLCbeO",
        "outputId": "e61d1054-5933-4768-d253-69c317d4036b"
      },
      "execution_count": null,
      "outputs": [
        {
          "output_type": "stream",
          "name": "stdout",
          "text": [
            "4\n"
          ]
        }
      ]
    },
    {
      "cell_type": "markdown",
      "source": [
        "18. Write a Python program to select the odd items from a list."
      ],
      "metadata": {
        "id": "Xuz1-j50CmTe"
      }
    },
    {
      "cell_type": "code",
      "source": [
        "num_list = [1, 2, 3, 4, 5]\n",
        "print(num_list[::2])"
      ],
      "metadata": {
        "colab": {
          "base_uri": "https://localhost:8080/"
        },
        "id": "RZs-QnfTDIvw",
        "outputId": "8aa166d5-6b20-4cb3-da57-0ea5f1f213e4"
      },
      "execution_count": null,
      "outputs": [
        {
          "output_type": "stream",
          "name": "stdout",
          "text": [
            "[1, 3, 5]\n"
          ]
        }
      ]
    },
    {
      "cell_type": "markdown",
      "source": [
        "19. Write a  Python program to split a list into different variables."
      ],
      "metadata": {
        "id": "F1XnxqKYDTRi"
      }
    },
    {
      "cell_type": "code",
      "source": [
        "num_list = [\n",
        "    (\"one\", \"jeden\"),\n",
        "    (\"two\", \"dwa\"),\n",
        "    (\"three\", \"trzy\")\n",
        "]\n",
        "var1, var2, var3 = num_list\n",
        "print(var1)\n",
        "print(var2)\n",
        "print(var3)"
      ],
      "metadata": {
        "colab": {
          "base_uri": "https://localhost:8080/"
        },
        "id": "DTSQOovlDzZ_",
        "outputId": "19416ecc-655a-469d-c6a8-303754c0b8bb"
      },
      "execution_count": null,
      "outputs": [
        {
          "output_type": "stream",
          "name": "stdout",
          "text": [
            "('one', 'jeden')\n",
            "('two', 'dwa')\n",
            "('three', 'trzy')\n"
          ]
        }
      ]
    },
    {
      "cell_type": "markdown",
      "source": [
        "20. Write a  Python program to concatenate elements of a list."
      ],
      "metadata": {
        "id": "am9GwncAEibZ"
      }
    },
    {
      "cell_type": "code",
      "source": [
        "words_str = [\"Hello\", \"word!\"]\n",
        "print(''.join(words_str))"
      ],
      "metadata": {
        "colab": {
          "base_uri": "https://localhost:8080/"
        },
        "id": "0K27Sh2HEjYM",
        "outputId": "140a7357-0b5d-41e6-96e9-f950ab25db6f"
      },
      "execution_count": null,
      "outputs": [
        {
          "output_type": "stream",
          "name": "stdout",
          "text": [
            "Helloword!\n"
          ]
        }
      ]
    }
  ]
}